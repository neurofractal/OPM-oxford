{
 "cells": [
  {
   "cell_type": "markdown",
   "metadata": {},
   "source": [
    "## Cogreg Using Rhino - Oxford Pilot Data 20241216"
   ]
  },
  {
   "cell_type": "code",
   "execution_count": 1,
   "metadata": {},
   "outputs": [],
   "source": [
    "# We start by importing the relevant packages\n",
    "import osl_ephys\n",
    "import numpy as np\n",
    "import mne\n",
    "import glob\n",
    "import yaml\n",
    "import os\n",
    "import matplotlib.pyplot as plt\n",
    "\n",
    "# Set global font to Open Sans\n",
    "plt.rcParams['font.family'] = 'sans-serif'\n",
    "plt.rcParams['font.sans-serif'] = ['Helvetica']\n",
    "plt.rcParams['font.size'] = 12  # Adjust font size as desired\n"
   ]
  },
  {
   "cell_type": "markdown",
   "metadata": {},
   "source": [
    "## Get FSL Setup"
   ]
  },
  {
   "cell_type": "code",
   "execution_count": 2,
   "metadata": {},
   "outputs": [],
   "source": [
    "from osl_ephys import source_recon\n",
    "fsl_dir = '/Users/robertseymour/fsl'\n",
    "source_recon.setup_fsl(fsl_dir)"
   ]
  },
  {
   "cell_type": "markdown",
   "metadata": {},
   "source": [
    "## Specify Subject"
   ]
  },
  {
   "cell_type": "code",
   "execution_count": 3,
   "metadata": {},
   "outputs": [],
   "source": [
    "subject = 'seamus'"
   ]
  },
  {
   "cell_type": "markdown",
   "metadata": {},
   "source": [
    "## Load in the Data - the downsampled headshape version"
   ]
  },
  {
   "cell_type": "code",
   "execution_count": 4,
   "metadata": {},
   "outputs": [
    {
     "name": "stdout",
     "output_type": "stream",
     "text": [
      "Opening raw data file BIDS/sub-seamus/ses-001/meg/sub-seamus_ses-001_task-fourMotor_run-001_meg_hs_downsample-raw.fif...\n",
      "    Range : 0 ... 2198783 =      0.000 ...  1465.855 secs\n",
      "Ready.\n",
      "Reading 0 ... 2198783  =      0.000 ...  1465.855 secs...\n"
     ]
    }
   ],
   "source": [
    "filename = 'BIDS/sub-{}/ses-001/meg/sub-{}_ses-001_task-fourMotor_run-001_meg_hs_downsample-raw.fif'.format(subject,subject)\n",
    "raw = mne.io.read_raw_fif(filename, preload=True)"
   ]
  },
  {
   "cell_type": "code",
   "execution_count": 5,
   "metadata": {},
   "outputs": [
    {
     "name": "stdout",
     "output_type": "stream",
     "text": [
      "Using pyvistaqt 3d backend.\n",
      "Getting helmet for system unknown (derived from 192 MEG channel locations)\n",
      "Channel types::\tmag: 192\n"
     ]
    }
   ],
   "source": [
    "# Plot the sensors to check they are in the right orientation\n",
    "fig = mne.viz.plot_alignment(raw.info,dig=True)"
   ]
  },
  {
   "cell_type": "markdown",
   "metadata": {},
   "source": [
    "## Setup subjects_dir"
   ]
  },
  {
   "cell_type": "code",
   "execution_count": 5,
   "metadata": {},
   "outputs": [],
   "source": [
    "subjects_dir = ''\n"
   ]
  },
  {
   "cell_type": "markdown",
   "metadata": {},
   "source": [
    "## Run MRI through FSL"
   ]
  },
  {
   "cell_type": "code",
   "execution_count": null,
   "metadata": {},
   "outputs": [],
   "source": [
    "source_recon.rhino.compute_surfaces(\n",
    "    'SOS.nii',\n",
    "    subjects_dir=subjects_dir,\n",
    "    subject=subject,\n",
    "    include_nose=True,\n",
    "    do_mri2mniaxes_xform=True\n",
    ")"
   ]
  },
  {
   "cell_type": "code",
   "execution_count": 6,
   "metadata": {},
   "outputs": [],
   "source": [
    "source_recon.rhino.surfaces.surfaces_display(\"\", \"seamus\")"
   ]
  },
  {
   "cell_type": "markdown",
   "metadata": {},
   "source": [
    "### Save the headshape data to the right place"
   ]
  },
  {
   "cell_type": "code",
   "execution_count": 9,
   "metadata": {},
   "outputs": [
    {
     "name": "stdout",
     "output_type": "stream",
     "text": [
      "Saved files to seamus/rhino/coreg\n"
     ]
    }
   ],
   "source": [
    "from osl_ephys.source_recon.rhino.utils import save_polhemus_fif\n",
    "save_polhemus_fif(raw,subjects_dir=subjects_dir,subject=subject)"
   ]
  },
  {
   "cell_type": "markdown",
   "metadata": {},
   "source": [
    "### Do Coreg!"
   ]
  },
  {
   "cell_type": "code",
   "execution_count": 9,
   "metadata": {},
   "outputs": [
    {
     "name": "stdout",
     "output_type": "stream",
     "text": [
      "*** RUNNING OSL-EPHYS RHINO COREGISTRATION ***\n",
      "Opening raw data file BIDS/sub-seamus/ses-001/meg/sub-seamus_ses-001_task-fourMotor_run-001_meg_hs_downsample-raw.fif...\n",
      "    Range : 0 ... 2198783 =      0.000 ...  1465.855 secs\n",
      "Ready.\n",
      "Creating RawArray with float64 data, n_channels=218, n_times=1\n",
      "    Range : 0 ... 0 =      0.000 ...     0.000 secs\n",
      "Ready.\n",
      "Overwriting existing file.\n",
      "Writing /Users/robertseymour/data/20241216_oxford_pilot/seamus/rhino/coreg/info-raw.fif\n",
      "Closing /Users/robertseymour/data/20241216_oxford_pilot/seamus/rhino/coreg/info-raw.fif\n",
      "[done]\n",
      "The MRI-derived nose is going to be used to aid coreg.\n",
      "Please ensure that rhino.compute_surfaces was run with include_nose=True.\n",
      "Please ensure that the polhemus headshape points include the nose.\n",
      "loading: seamus/rhino/coreg/polhemus_headshape.txt\n",
      "loading: seamus/rhino/coreg/polhemus_nasion.txt\n",
      "loading: seamus/rhino/coreg/polhemus_rpa.txt\n",
      "loading: seamus/rhino/coreg/polhemus_lpa.txt\n",
      "Using known MNI fiducials\n",
      "Running ICP...\n",
      "ICP found better xform, error=3.158349430546604\n",
      "ICP found better xform, error=3.15363571958528\n",
      "Overwriting existing file.\n",
      "Overwriting existing file.\n",
      "Overwriting existing file.\n",
      "Overwriting existing file.\n",
      "Overwriting existing file.\n",
      "Overwriting existing file.\n",
      "rhino.coreg_display(\"\", \"seamus\") can be used to check the result\n",
      "*** OSL-EPHYS RHINO COREGISTRATION COMPLETE ***\n"
     ]
    }
   ],
   "source": [
    "source_recon.rhino.coreg(\n",
    "    filename,\n",
    "    subjects_dir=subjects_dir,\n",
    "    subject=subject,\n",
    "    use_headshape=True,\n",
    "    use_nose=True,\n",
    "    n_init = 10,\n",
    ")"
   ]
  },
  {
   "cell_type": "markdown",
   "metadata": {},
   "source": [
    "### Display Headmodel"
   ]
  },
  {
   "cell_type": "code",
   "execution_count": 10,
   "metadata": {},
   "outputs": [
    {
     "name": "stdout",
     "output_type": "stream",
     "text": [
      "Reading forward solution from /Users/robertseymour/data/20241216_oxford_pilot/seamus/rhino/model-fwd.fif...\n",
      "    Reading a source space...\n",
      "    [done]\n",
      "    1 source spaces read\n",
      "    Desired named matrix (kind = 3523 (FIFF_MNE_FORWARD_SOLUTION_GRAD)) not available\n",
      "    Read MEG forward solution (2863 sources, 192 channels, free orientations)\n",
      "    Source spaces transformed to the forward solution coordinate frame\n",
      "BEM surface: number of dipoles = 2863\n",
      "Overwriting existing file.\n"
     ]
    }
   ],
   "source": [
    "source_recon.rhino.bem_display(\n",
    "    subjects_dir=subjects_dir,\n",
    "    subject=subject,\n",
    "    display_outskin_with_nose=False,\n",
    "    display_sensors=True,\n",
    "    plot_type=\"surf\",\n",
    "\n",
    ")"
   ]
  },
  {
   "cell_type": "markdown",
   "metadata": {},
   "source": [
    "## Display Coreg Accuracy"
   ]
  },
  {
   "cell_type": "markdown",
   "metadata": {},
   "source": [
    "#### Note: requires the sensor type to be added to _3d.py MNE code - I need to make a pull request to MNE "
   ]
  },
  {
   "cell_type": "code",
   "execution_count": 6,
   "metadata": {},
   "outputs": [
    {
     "name": "stdout",
     "output_type": "stream",
     "text": [
      "Using pyvistaqt 3d backend.\n",
      "Creating surface mesh for seamus/rhino/coreg/scaled_outskin_plus_nose_mesh.nii.gz .....\n",
      "Overwriting existing file.\n"
     ]
    }
   ],
   "source": [
    "source_recon.rhino.coreg_display(\n",
    "    subjects_dir=subjects_dir,\n",
    "    subject=subject,\n",
    "    display_outskin_with_nose=True,\n",
    "    display_sensors=True,\n",
    "    display_sensor_oris = True,\n",
    "    plot_type=\"surf\",\n",
    "    display_headshape_pnts=True,\n",
    "    display_outskin = True,\n",
    "    # filename='./bem_dispay.html',\n",
    "\n",
    ")"
   ]
  },
  {
   "cell_type": "markdown",
   "metadata": {},
   "source": [
    "### Create 8mm grid"
   ]
  },
  {
   "cell_type": "code",
   "execution_count": 7,
   "metadata": {},
   "outputs": [
    {
     "name": "stdout",
     "output_type": "stream",
     "text": [
      "*** RUNNING OSL-EPHYS RHINO FORWARD MODEL ***\n",
      "Overwriting existing file.\n",
      "Using bet_inskull_surf_file for single shell surface\n",
      "Overwriting existing file.\n",
      "Overwriting existing file.\n",
      "Surface CM = (  -1.6   -6.3   12.0) mm\n",
      "Surface fits inside a sphere with radius   96.8 mm\n",
      "Surface extent:\n",
      "    x =  -75.4 ...   74.2 mm\n",
      "    y =  -83.1 ...   86.4 mm\n",
      "    z =  -65.0 ...   83.2 mm\n",
      "Grid extent:\n",
      "    x =  -80.0 ...   80.0 mm\n",
      "    y =  -88.0 ...   88.0 mm\n",
      "    z =  -72.0 ...   88.0 mm\n",
      "10143 sources before omitting any.\n",
      "6963 sources after omitting infeasible sources not within 0.0 - 96.8 mm.\n",
      "Source spaces are in MRI coordinates.\n",
      "Checking that the sources are inside the surface and at least    4.0 mm away (will take a few...)\n",
      "Checking surface interior status for 6963 points...\n",
      "    Found  365/6963 points inside  an interior sphere of radius   35.6 mm\n",
      "    Found    0/6963 points outside an exterior sphere of radius   96.8 mm\n",
      "    Found 3352/6598 points outside using surface Qhull\n",
      "    Found  268/3246 points outside using solid angles\n",
      "    Total 3343/6963 points inside the surface\n",
      "Interior check completed in 721.6 ms\n",
      "    3620 source space points omitted because they are outside the inner skull surface.\n",
      "    480 source space points omitted because of the    4.0-mm distance limit.\n",
      "2863 sources remaining after excluding the sources outside the surface and less than    4.0 mm inside.\n",
      "Adjusting the neighborhood info.\n",
      "Source space : MRI voxel -> MRI (surface RAS)\n",
      "    0.008000 0.000000 0.000000     -80.00 mm\n",
      "    0.000000 0.008000 0.000000     -88.00 mm\n",
      "    0.000000 0.000000 0.008000     -72.00 mm\n",
      "    0.000000 0.000000 0.000000       1.00\n",
      "Homogeneous model surface loaded.\n",
      "Computing the linear collocation solution...\n",
      "    Matrix coefficients...\n",
      "        inner skull (2562) -> inner skull (2562) ...\n",
      "    Inverting the coefficient matrix...\n",
      "Solution ready.\n",
      "BEM geometry computations complete.\n",
      "Overwriting existing file.\n",
      "    Write a source space...\n",
      "    [done]\n",
      "    1 source spaces written\n",
      "*** OSL-EPHYS RHINO FORWARD MODEL COMPLETE ***\n"
     ]
    }
   ],
   "source": [
    "gridstep = 8\n",
    "source_recon.rhino.forward_model(\n",
    "    subjects_dir=subjects_dir,\n",
    "    subject=subject,\n",
    "    model=\"Single Layer\",\n",
    "    gridstep=gridstep,\n",
    ")"
   ]
  },
  {
   "cell_type": "markdown",
   "metadata": {},
   "source": [
    "### Read Forward Solution and Plot"
   ]
  },
  {
   "cell_type": "code",
   "execution_count": 8,
   "metadata": {},
   "outputs": [
    {
     "name": "stdout",
     "output_type": "stream",
     "text": [
      "Reading forward solution from /Users/robertseymour/data/20241216_oxford_pilot/seamus/rhino/model-fwd.fif...\n",
      "    Reading a source space...\n",
      "    [done]\n",
      "    1 source spaces read\n",
      "    Desired named matrix (kind = 3523 (FIFF_MNE_FORWARD_SOLUTION_GRAD)) not available\n",
      "    Read MEG forward solution (2863 sources, 192 channels, free orientations)\n",
      "    Source spaces transformed to the forward solution coordinate frame\n"
     ]
    }
   ],
   "source": [
    "from mne import read_forward_solution\n",
    "\n",
    "# load forward solution\n",
    "fwd_fname = '{}/rhino/model-fwd.fif'.format(subject)\n",
    "fwd = read_forward_solution(fwd_fname)"
   ]
  },
  {
   "cell_type": "code",
   "execution_count": 11,
   "metadata": {},
   "outputs": [
    {
     "name": "stdout",
     "output_type": "stream",
     "text": [
      "Getting helmet for system unknown (derived from 192 MEG channel locations)\n",
      "Channel types::\tmag: 192\n"
     ]
    },
    {
     "data": {
      "text/plain": [
       "<mne.viz.backends._pyvista.PyVistaFigure at 0x4304a6880>"
      ]
     },
     "execution_count": 11,
     "metadata": {},
     "output_type": "execute_result"
    }
   ],
   "source": [
    "# Visualize the forward solution using plot_alignment() (corrected)\n",
    "mne.viz.plot_alignment(\n",
    "    raw.info,  # Use the 'info' from the forward solution\n",
    "    dig=True,\n",
    "    subject=subject,  # Name of the subject\n",
    "    subjects_dir=subjects_dir,  # Path to the subject's MRI directory\n",
    "    src=fwd['src'],\n",
    ")"
   ]
  }
 ],
 "metadata": {
  "kernelspec": {
   "display_name": "osl_OPM",
   "language": "python",
   "name": "python3"
  },
  "language_info": {
   "codemirror_mode": {
    "name": "ipython",
    "version": 3
   },
   "file_extension": ".py",
   "mimetype": "text/x-python",
   "name": "python",
   "nbconvert_exporter": "python",
   "pygments_lexer": "ipython3",
   "version": "3.9.18"
  }
 },
 "nbformat": 4,
 "nbformat_minor": 2
}
