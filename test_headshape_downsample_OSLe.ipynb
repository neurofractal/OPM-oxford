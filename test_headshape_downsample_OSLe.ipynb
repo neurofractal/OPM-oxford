{
 "cells": [
  {
   "cell_type": "markdown",
   "metadata": {},
   "source": [
    "## Downsample the Headshape in our OPM Data"
   ]
  },
  {
   "cell_type": "code",
   "execution_count": 5,
   "metadata": {},
   "outputs": [
    {
     "name": "stdout",
     "output_type": "stream",
     "text": [
      "Opening raw data file BIDS/sub-seamus/ses-001/meg/sub-seamus_ses-001_task-fourMotor_run-001_meg.fif...\n",
      "    Range : 0 ... 2198783 =      0.000 ...  1465.855 secs\n",
      "Ready.\n",
      "Reading 0 ... 2198783  =      0.000 ...  1465.855 secs...\n",
      "(15099, 3)\n",
      "Removing Points Below Z_lim\n",
      "For automatic theme detection, \"darkdetect\" has to be installed! You can install it with `pip install darkdetect`\n",
      "For automatic theme detection, \"darkdetect\" has to be installed! You can install it with `pip install darkdetect`\n",
      "Getting helmet for system unknown (derived from 192 MEG channel locations)\n",
      "Channel types::\tmag: 192\n",
      "Saving...\n",
      "Writing /Users/robertseymour/data/20241216_oxford_pilot/BIDS/sub-seamus/ses-001/meg/sub-seamus_ses-001_task-fourMotor_run-001_meg.fif_hs_downsample-raw.fif\n",
      "Closing /Users/robertseymour/data/20241216_oxford_pilot/BIDS/sub-seamus/ses-001/meg/sub-seamus_ses-001_task-fourMotor_run-001_meg.fif_hs_downsample-raw.fif\n",
      "[done]\n"
     ]
    }
   ],
   "source": [
    "import mne\n",
    "import osl_ephys\n",
    "import numpy as np\n",
    "import matplotlib.pyplot as plt\n",
    "\n",
    "from osl_ephys.source_recon.rhino.utils import downsample_headshape, replace_headshape\n",
    "\n",
    "%matplotlib qt\n",
    "\n",
    "subject = 'seamus'\n",
    "\n",
    "filename = 'BIDS/sub-{}/ses-001/meg/sub-{}_ses-001_task-fourMotor_run-001_meg.fif'.format(subject,subject)\n",
    "# filename = 'sub-11766_ses-001_task-facescircles_run-001_meg.fif'\n",
    "raw = mne.io.read_raw_fif(filename, preload=True)\n",
    "\n",
    "# Get Headshape Points\n",
    "dig = raw.info['dig']\n",
    "points = np.array([d['r'] for d in dig if 'r' in d])\n",
    "print(np.shape(points))\n",
    "\n",
    "# Downsample\n",
    "ds_headshape = downsample_headshape(\n",
    "    points,\n",
    "    downsample_amount=0.015,    # average over 1.5cm\n",
    "    include_facial_info=True,\n",
    "    remove_zlim=0.02,           # Remove 2cm above nasion\n",
    "    angle=10,                   # At an angle of 10deg\n",
    "    method=\"gridaverage\",\n",
    "    face_Z = [-0.08, 0.02],     # Z-axis (up-down) -8cm to 2cm\n",
    "    face_Y = [0.06, 0.15],      # Y-axis (forward-back) 6 to 15cm\n",
    "    face_X = [-0.07, 0.07],     # X-axis (left_right) -7 to 7cm\n",
    "    downsample_facial_info=True,\n",
    "    downsample_facial_info_amount=0.008 # average over 0.8cm\n",
    ")\n",
    "\n",
    "# Assume `raw` is your loaded MNE Raw object, and `ds_headshape` is the Nx3 array of downsampled points\n",
    "raw_C = replace_headshape(raw, ds_headshape)\n",
    "\n",
    "# Plot the sensors to check they are in the right orientation\n",
    "fig = mne.viz.plot_alignment(raw_C.info,dig=True)\n",
    "\n",
    "# Save the data\n",
    "print('Saving...')\n",
    "raw_C.save('{}_hs_downsample-raw.fif'.format(filename))\n"
   ]
  }
 ],
 "metadata": {
  "kernelspec": {
   "display_name": "osle",
   "language": "python",
   "name": "python3"
  },
  "language_info": {
   "codemirror_mode": {
    "name": "ipython",
    "version": 3
   },
   "file_extension": ".py",
   "mimetype": "text/x-python",
   "name": "python",
   "nbconvert_exporter": "python",
   "pygments_lexer": "ipython3",
   "version": "3.8.16"
  }
 },
 "nbformat": 4,
 "nbformat_minor": 2
}
